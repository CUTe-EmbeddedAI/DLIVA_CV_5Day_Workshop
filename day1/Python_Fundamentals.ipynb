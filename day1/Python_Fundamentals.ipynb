{
  "cells": [
    {
      "cell_type": "markdown",
      "id": "2002df60",
      "metadata": {
        "id": "2002df60"
      },
      "source": [
        " ![download.png](attachment:download.png)"
      ]
    },
    {
      "cell_type": "markdown",
      "id": "0638fef8",
      "metadata": {
        "id": "0638fef8"
      },
      "source": [
        "# Python Fundamentals from W3Schools"
      ]
    },
    {
      "cell_type": "markdown",
      "id": "8f80f490",
      "metadata": {
        "id": "8f80f490"
      },
      "source": [
        "\n",
        "## What is Python?\n"
      ]
    },
    {
      "cell_type": "markdown",
      "id": "3649b550",
      "metadata": {
        "id": "3649b550"
      },
      "source": [
        "  https://www.w3schools.com/python/python_intro.asp"
      ]
    },
    {
      "cell_type": "markdown",
      "id": "507f6d9d",
      "metadata": {
        "id": "507f6d9d"
      },
      "source": [
        "## Python Getting Started\n"
      ]
    },
    {
      "cell_type": "markdown",
      "id": "c3a651a0",
      "metadata": {
        "id": "c3a651a0"
      },
      "source": [
        "https://www.w3schools.com/python/python_getstarted.asp"
      ]
    },
    {
      "cell_type": "markdown",
      "id": "b2467d8b",
      "metadata": {
        "id": "b2467d8b"
      },
      "source": [
        "## Python Syntax with First Python Program"
      ]
    },
    {
      "cell_type": "markdown",
      "id": "6a58c041",
      "metadata": {
        "id": "6a58c041"
      },
      "source": [
        "https://www.w3schools.com/python/python_syntax.asp"
      ]
    },
    {
      "cell_type": "markdown",
      "id": "bb7c4d32",
      "metadata": {
        "id": "bb7c4d32"
      },
      "source": [
        "## Python Variables "
      ]
    },
    {
      "cell_type": "markdown",
      "id": "34708c75",
      "metadata": {
        "id": "34708c75"
      },
      "source": [
        "https://www.w3schools.com/python/python_variables.asp"
      ]
    },
    {
      "cell_type": "markdown",
      "id": "5ce2694e",
      "metadata": {
        "id": "5ce2694e"
      },
      "source": [
        "## Python Data Types\n",
        " "
      ]
    },
    {
      "cell_type": "markdown",
      "id": "797b727b",
      "metadata": {
        "id": "797b727b"
      },
      "source": [
        "https://www.w3schools.com/python/python_datatypes.asp"
      ]
    },
    {
      "cell_type": "markdown",
      "id": "31702c94",
      "metadata": {
        "id": "31702c94"
      },
      "source": [
        "## Python Numbers\n",
        " "
      ]
    },
    {
      "cell_type": "markdown",
      "id": "89ca16f1",
      "metadata": {
        "id": "89ca16f1"
      },
      "source": [
        "https://www.w3schools.com/python/python_numbers.asp"
      ]
    },
    {
      "cell_type": "markdown",
      "id": "4087eab0",
      "metadata": {
        "id": "4087eab0"
      },
      "source": [
        "## Python Strings "
      ]
    },
    {
      "cell_type": "markdown",
      "id": "90851a61",
      "metadata": {
        "id": "90851a61"
      },
      "source": [
        "https://www.w3schools.com/python/python_strings.asp"
      ]
    },
    {
      "cell_type": "markdown",
      "id": "ab10d748",
      "metadata": {
        "id": "ab10d748"
      },
      "source": [
        "## Python User Input\n",
        " "
      ]
    },
    {
      "cell_type": "markdown",
      "id": "b5d471d0",
      "metadata": {
        "id": "b5d471d0"
      },
      "source": [
        "https://www.w3schools.com/python/python_user_input.asp"
      ]
    },
    {
      "cell_type": "markdown",
      "id": "94d93b90",
      "metadata": {
        "id": "94d93b90"
      },
      "source": [
        "## Python Operators\n",
        " "
      ]
    },
    {
      "cell_type": "markdown",
      "id": "7f163654",
      "metadata": {
        "id": "7f163654"
      },
      "source": [
        "https://www.w3schools.com/python/python_operators.asp"
      ]
    },
    {
      "cell_type": "markdown",
      "id": "4173d0a0",
      "metadata": {
        "id": "4173d0a0"
      },
      "source": [
        "## Python Lists\n",
        " "
      ]
    },
    {
      "cell_type": "markdown",
      "id": "3ed2fe39",
      "metadata": {
        "id": "3ed2fe39"
      },
      "source": [
        "https://www.w3schools.com/python/python_lists.asp"
      ]
    },
    {
      "cell_type": "markdown",
      "id": "c389755f",
      "metadata": {
        "id": "c389755f"
      },
      "source": [
        "## Python Tuples "
      ]
    },
    {
      "cell_type": "markdown",
      "id": "cc72c598",
      "metadata": {
        "id": "cc72c598"
      },
      "source": [
        "https://www.w3schools.com/python/python_tuples.asp"
      ]
    },
    {
      "cell_type": "markdown",
      "id": "30c2bbfe",
      "metadata": {
        "id": "30c2bbfe"
      },
      "source": [
        "## Python Sets\n",
        " "
      ]
    },
    {
      "cell_type": "markdown",
      "id": "00a64eae",
      "metadata": {
        "id": "00a64eae"
      },
      "source": [
        "https://www.w3schools.com/python/python_sets.asp"
      ]
    },
    {
      "cell_type": "markdown",
      "id": "ea713f9e",
      "metadata": {
        "id": "ea713f9e"
      },
      "source": [
        "## Python Dictionaries\n",
        " "
      ]
    },
    {
      "cell_type": "markdown",
      "id": "9afe43f4",
      "metadata": {
        "id": "9afe43f4"
      },
      "source": [
        "https://www.w3schools.com/python/python_dictionaries.asp"
      ]
    },
    {
      "cell_type": "markdown",
      "id": "03333649",
      "metadata": {
        "id": "03333649"
      },
      "source": [
        "## Python If ... Else\n",
        " "
      ]
    },
    {
      "cell_type": "markdown",
      "id": "7b91ad8d",
      "metadata": {
        "id": "7b91ad8d"
      },
      "source": [
        "https://www.w3schools.com/python/python_conditions.asp"
      ]
    },
    {
      "cell_type": "markdown",
      "id": "4efe1c30",
      "metadata": {
        "id": "4efe1c30"
      },
      "source": [
        "## Python While Loops\n",
        " "
      ]
    },
    {
      "cell_type": "markdown",
      "id": "59e4475f",
      "metadata": {
        "id": "59e4475f"
      },
      "source": [
        "https://www.w3schools.com/python/python_while_loops.asp"
      ]
    },
    {
      "cell_type": "markdown",
      "id": "59630042",
      "metadata": {
        "id": "59630042"
      },
      "source": [
        "## Python For Loops\n",
        " "
      ]
    },
    {
      "cell_type": "markdown",
      "id": "1ec5cc07",
      "metadata": {
        "id": "1ec5cc07"
      },
      "source": [
        "https://www.w3schools.com/python/python_for_loops.asp"
      ]
    },
    {
      "cell_type": "markdown",
      "id": "ac1b1209",
      "metadata": {
        "id": "ac1b1209"
      },
      "source": [
        "## Python Functions\n",
        " "
      ]
    },
    {
      "cell_type": "markdown",
      "id": "0e48a59e",
      "metadata": {
        "id": "0e48a59e"
      },
      "source": [
        "https://www.w3schools.com/python/python_functions.asp"
      ]
    },
    {
      "cell_type": "markdown",
      "id": "02e2c7e2",
      "metadata": {
        "id": "02e2c7e2"
      },
      "source": [
        "## Python Math\n",
        " "
      ]
    },
    {
      "cell_type": "markdown",
      "id": "22e42b05",
      "metadata": {
        "id": "22e42b05"
      },
      "source": [
        "https://www.w3schools.com/python/python_math.asp"
      ]
    },
    {
      "cell_type": "markdown",
      "source": [
        "##Python Classes and Objects"
      ],
      "metadata": {
        "id": "NtLtF2kCFtQH"
      },
      "id": "NtLtF2kCFtQH"
    },
    {
      "cell_type": "markdown",
      "source": [
        "https://www.w3schools.com/python/python_classes.asp"
      ],
      "metadata": {
        "id": "GukvZXBeF9V2"
      },
      "id": "GukvZXBeF9V2"
    },
    {
      "cell_type": "markdown",
      "source": [
        "##Python Inheritance"
      ],
      "metadata": {
        "id": "1O88cIKKGDvp"
      },
      "id": "1O88cIKKGDvp"
    },
    {
      "cell_type": "markdown",
      "source": [
        "https://www.w3schools.com/python/python_inheritance.asp"
      ],
      "metadata": {
        "id": "pX26QpBbGKLD"
      },
      "id": "pX26QpBbGKLD"
    },
    {
      "cell_type": "markdown",
      "source": [
        "##Python Iterators"
      ],
      "metadata": {
        "id": "3ZXzWo_SGPLu"
      },
      "id": "3ZXzWo_SGPLu"
    },
    {
      "cell_type": "markdown",
      "source": [
        "https://www.w3schools.com/python/python_iterators.asp"
      ],
      "metadata": {
        "id": "OBm3IMngGUmB"
      },
      "id": "OBm3IMngGUmB"
    },
    {
      "cell_type": "markdown",
      "source": [
        "##Python Modules"
      ],
      "metadata": {
        "id": "LsWZ2Q85GdaN"
      },
      "id": "LsWZ2Q85GdaN"
    },
    {
      "cell_type": "markdown",
      "source": [
        "https://www.w3schools.com/python/python_modules.asp"
      ],
      "metadata": {
        "id": "PeyRczYWGfDV"
      },
      "id": "PeyRczYWGfDV"
    },
    {
      "cell_type": "markdown",
      "id": "6620b3c9",
      "metadata": {
        "id": "6620b3c9"
      },
      "source": [
        "## Python PIP\n",
        " "
      ]
    },
    {
      "cell_type": "markdown",
      "id": "3a76d74b",
      "metadata": {
        "id": "3a76d74b"
      },
      "source": [
        "https://www.w3schools.com/python/python_pip.asp"
      ]
    },
    {
      "cell_type": "code",
      "execution_count": null,
      "id": "89e72f7e",
      "metadata": {
        "id": "89e72f7e"
      },
      "outputs": [],
      "source": []
    }
  ],
  "metadata": {
    "kernelspec": {
      "display_name": "Python 3 (ipykernel)",
      "language": "python",
      "name": "python3"
    },
    "language_info": {
      "codemirror_mode": {
        "name": "ipython",
        "version": 3
      },
      "file_extension": ".py",
      "mimetype": "text/x-python",
      "name": "python",
      "nbconvert_exporter": "python",
      "pygments_lexer": "ipython3",
      "version": "3.9.7"
    },
    "colab": {
      "provenance": []
    }
  },
  "nbformat": 4,
  "nbformat_minor": 5
}