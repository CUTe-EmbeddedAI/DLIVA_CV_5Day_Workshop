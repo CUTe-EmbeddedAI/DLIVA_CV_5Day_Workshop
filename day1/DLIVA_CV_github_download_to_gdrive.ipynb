{
  "nbformat": 4,
  "nbformat_minor": 0,
  "metadata": {
    "colab": {
      "name": "DLCV_github download to gdrive.ipynb",
      "provenance": []
    },
    "kernelspec": {
      "name": "python3",
      "display_name": "Python 3"
    },
    "language_info": {
      "name": "python"
    }
  },
  "cells": [
    {
      "cell_type": "code",
      "source": [
        "#mount the google drive\n",
        "from google.colab import drive\n",
        "drive.mount('/content/gdrive')"
      ],
      "metadata": {
        "colab": {
          "base_uri": "https://localhost:8080/"
        },
        "id": "hdubnmSQhMAc",
        "outputId": "6fa6ba6f-a02c-475d-ce15-2b910b16d414"
      },
      "execution_count": null,
      "outputs": [
        {
          "output_type": "stream",
          "name": "stdout",
          "text": [
            "Mounted at /content/gdrive\n"
          ]
        }
      ]
    },
    {
      "cell_type": "code",
      "execution_count": null,
      "metadata": {
        "colab": {
          "base_uri": "https://localhost:8080/"
        },
        "id": "ZFLDmDfZRuti",
        "outputId": "dafcd619-1292-4d6e-e11f-88ff677a9bd1"
      },
      "outputs": [
        {
          "output_type": "stream",
          "name": "stdout",
          "text": [
            "Cloning into '/content/gdrive/MyDrive/DLCV_workshop'...\n",
            "Checking out files: 100% (163/163), done.\n"
          ]
        }
      ],
      "source": [
        "#To Download the github repo to google drive\n",
        "!git clone https://github.com/CUTe-EmbeddedAI/DLIVA_CV_5Day_Workshop.git /content/gdrive/MyDrive/DLIVACV_workshop"
      ]
    }
  ]
}