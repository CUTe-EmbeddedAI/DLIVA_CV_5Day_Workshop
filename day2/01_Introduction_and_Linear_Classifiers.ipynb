{
  "cells": [
    {
      "cell_type": "markdown",
      "metadata": {
        "id": "2B_vPsw8Zdj0"
      },
      "source": [
        "# What is deep learning?"
      ]
    },
    {
      "cell_type": "markdown",
      "metadata": {
        "id": "TrxrVxWtZdkB"
      },
      "source": [
        "Deep learning is considered a subfield of machine learning. Even though thereare countless inspirations from real neurons, we will focus on modelingeverything with formulas, intuitions, and theories that actually work.\n",
        "\n",
        "In practice, deep learning is the scaling up of computational structures calledneural networks.\n",
        "\n",
        "Why do we take the time to develop such approaches?\n",
        "\n",
        "Because it is the optimal solution when working with really large-scale data rightnow."
      ]
    },
    {
      "cell_type": "markdown",
      "metadata": {
        "id": "fSCNDZTdZdkC"
      },
      "source": [
        "> It is important to keep in mind that deep learning is all about learning\n",
        "**powerful representations**. "
      ]
    },
    {
      "cell_type": "markdown",
      "metadata": {
        "id": "oNiENfGdZdkD"
      },
      "source": [
        "There is a huge shift from extracting features to learning features, and that is what deep learning is all about."
      ]
    },
    {
      "cell_type": "markdown",
      "metadata": {
        "id": "8UEn8gtcZdkE"
      },
      "source": [
        "# Deep learning applications"
      ]
    },
    {
      "cell_type": "markdown",
      "metadata": {
        "id": "Kp6GsEy9ZdkF"
      },
      "source": [
        "In this course, you will get a general perspective of a huge variety of problems that you can solve with deep learning.\n",
        "\n",
        "First, you will learn to formulate problems in terms of machine and deep learning. That’s a crucial skill that you will use throughout your career and projects. We will be focussing our applications to computer vision related tasks.\n",
        "\n",
        "Secondly, you will learn the most basic components that tackle some of the following tasks:\n",
        "- Image classification\n",
        "- Image regression\n",
        "- Object detection\n",
        "- Generative models\n",
        "- Embedded deep learning\n",
        "\n",
        "Deep learning has already transformed a variety of businesses such as websearch, augmented reality, social networks, automobiles, retail, cybersecurity, and manufacturing. But the most exciting thing is the potential novel applications thatmay appear in the future. These projects can radically transform every industry.\n",
        "\n",
        "Some experts claim that **AI is the new electricity**.\n",
        "\n",
        "While this may be a disputable idea, what is for certain is that **deep learning is one of the most sought after and well-paid skills**.\n",
        "\n",
        "So why stay behind?\n"
      ]
    },
    {
      "cell_type": "markdown",
      "metadata": {
        "id": "encnxUtyZdkG"
      },
      "source": [
        "# Linear Classifiers"
      ]
    },
    {
      "cell_type": "markdown",
      "metadata": {
        "id": "nwdfdhPUZdkH"
      },
      "source": [
        "Explore linear classifiers, their principles, and their training process.\n",
        "\n",
        "We will cover the following:\n",
        "\n",
        "- What is a linear classifier?\n",
        "- Training a classifier\n",
        "- Loss function\n",
        "- Optimization and training process"
      ]
    },
    {
      "cell_type": "markdown",
      "metadata": {
        "id": "4z7ur842ZdkI"
      },
      "source": [
        "# What is a linear classifier?\n",
        "\n",
        "Suppose we want to build a machine learning model to classify the following points into two categories based on their color. It is very easy to see that we can find a single point that separates them perfectly. The goal of our model is to find this point.\n",
        "\n",
        "\n",
        "![pic](https://raw.githubusercontent.com/CUTe-EmbeddedAI/images/main/images/fig01.PNG)"
      ]
    },
    {
      "cell_type": "markdown",
      "metadata": {
        "id": "6kZe829vZdkK"
      },
      "source": [
        "The easiest way to do that is to build a linear classifier. Our classifier has the form $f(x,w) = w_{1}x_{1} + w_{2}$. The purpose of\n",
        "$f(x, w)$ will be to find the parameters $w_{1}$ and $w_{2}$, so that any corresponding scalar point (1D) can be distinguished perfectly. If\n",
        "$f (x, w) > 0$, the point belongs to the blue category. Otherwise, it belongs to the red.\n",
        "\n",
        "Sounds easy?\n",
        "\n",
        "Let’s extend this idea to 2D data points!"
      ]
    },
    {
      "cell_type": "markdown",
      "metadata": {
        "id": "pJ7Qlsz1ZdkL"
      },
      "source": [
        "Each point will now be represented as $(x_{1} , x_{2})$.\n",
        "\n",
        "For the 2D case, we need to find a line (instead of a point) that separates our 2Dpoints, so our classifier will be $(x, w) = w_{1}x_{1} + w_{2}x_{2} + w_{3}$. Again, the classifier should be trained to find the optimal\n",
        "$w_{1} , w_{2}$ and $w_{3}$.\n",
        "\n",
        "\n",
        "![pic](https://raw.githubusercontent.com/CUTe-EmbeddedAI/images/main/images/fig02.PNG)"
      ]
    },
    {
      "cell_type": "markdown",
      "metadata": {
        "id": "7Vj5fIgPZdkN"
      },
      "source": [
        "This idea can be naturally extended to arbitrary (N) dimensions. The line in the2D space will be a plane in the 3D space and N-plane in higher dimensions. We call this the hyperplane of the N-dimensional space that can separate the space into 2 classes (red and blue).\n",
        "\n",
        "We will utilize linear algebra and matrices to formulate it. To facilitate thereadability, matrices will be denoted in capital letter.\n",
        "\n",
        "As a result, we now have $f(x, W) = Wx + b$, where $x$ and $b$ are N-dimensional vectors while $W$ is an $N$ x $N$ matrix. We need to find the correct values of $W$ and $b$ to define a hyperplane. When we have those, we can receive the category $y$ for any data-point $x$.\n",
        "\n",
        "From now on, we’ll denote our classifier as $f(x_{i} ,W)$\n",
        "\n",
        "![linear](https://raw.githubusercontent.com/CUTe-EmbeddedAI/images/main/images/fig03.PNG)"
      ]
    },
    {
      "cell_type": "markdown",
      "metadata": {
        "id": "l-cG0-ekZdkO"
      },
      "source": [
        "In Pytorch, we can build a linear classifier with 5 inputs and 10 outputs using just one line of code. The following code will initialize a trainable matrix and a vector and every time we use class instance classifier, it will perform the operation\n",
        "$y = Wx + b$"
      ]
    },
    {
      "cell_type": "code",
      "execution_count": null,
      "metadata": {
        "colab": {
          "base_uri": "https://localhost:8080/"
        },
        "id": "VlCVRAoQZdkO",
        "outputId": "881d954c-73a6-4c01-b0a6-28d545237f32"
      },
      "outputs": [
        {
          "output_type": "execute_result",
          "data": {
            "text/plain": [
              "Linear(in_features=5, out_features=10, bias=True)"
            ]
          },
          "metadata": {},
          "execution_count": 1
        }
      ],
      "source": [
        "## Basic imports\n",
        "import torch\n",
        "import torch.nn as nn\n",
        "## initializes a matrix W and a vector b\n",
        "classifier = nn.Linear(2, 2)\n",
        "\n",
        "classifier"
      ]
    },
    {
      "cell_type": "markdown",
      "metadata": {
        "id": "WOEmujQcZdkR"
      },
      "source": [
        "# Training a classifier\n",
        "\n",
        "We know that we want to find the matrix $W$ and the vector $b$ in order to classify our examples. \n",
        "\n",
        "But how? \n",
        "\n",
        "First of all, we need training data. Training data are data-points ($x$) whose category (target class $t$) we are aware of. Thus, we can utilize it to “train” our classifier.\n",
        "\n",
        "> “Training” a classifier refers to the notion of trying to find the matrix $W$ by feeding to its already known data points.\n",
        "\n",
        "Because we know the “labels” (category) of the data, these training approaches are called **supervised**. The data are provided in pairs $(x,t)$. We use the $x$ as an input to the classifier and the labels $t$ to compute the loss (distance). Note that $y$ refers to the output of the classifier and will be equal to $y = Wx + b$\n",
        "\n",
        "> Intuitively, we will push the randomly initialized model to learn this mapping from $x \\rightarrow t$\n",
        "\n",
        "Before we describe the process of training, we need to describe two more concepts."
      ]
    },
    {
      "cell_type": "markdown",
      "metadata": {
        "id": "f0kYH-ZPZdkS"
      },
      "source": [
        "# Loss function\n",
        "\n",
        "**Loss (or cost) is a measure of how good or bad a classification of a data-point is.** Alternatively, it can be defined as how far the classifier’s prediction $y$ is, for the data-point $x$, from the actual class $t$. Let’s make that crystal clear:\n",
        "\n",
        "Given a dataset $(x_{i} , t_{i})$ of N points where $x_{i}$ is an N-dimensional point in space and $t_{i}$ is an integer that defines the point’s category, loss is the distance between $f(x_{i} ,W)$ and $t_{i}$ .\n",
        "\n",
        "$C_{i}(f (x_{i},W), t_{i})$ is the cost for a single example $x_{i}$.\n",
        "\n",
        "The overall loss of the entire training data is simply the average of all the individual losses. However, in practice, we rarely average the loss over all datapoints.\n",
        "\n",
        "Note that the choice of the loss function depends on the problem and the form of the data. In our case, from now on, we will use the mean squared error distance defined as:\n",
        "\n",
        "> $C = \\sum(f (x _{i},W) − t_{i})^{2}$\n",
        "\n",
        "Notice that the sum is between the elements of the vector. Here is a code example:"
      ]
    },
    {
      "cell_type": "code",
      "execution_count": null,
      "metadata": {
        "colab": {
          "base_uri": "https://localhost:8080/"
        },
        "id": "E6l5RjIJZdkS",
        "outputId": "bed36c6c-875b-4112-e6d5-d9e40defb4c8"
      },
      "outputs": [
        {
          "output_type": "stream",
          "name": "stdout",
          "text": [
            "Prediction:  tensor([-0.8088, -0.0946,  0.2488], grad_fn=<AddBackward0>)\n",
            "Output:  tensor(0.4091, grad_fn=<MseLossBackward0>)\n"
          ]
        }
      ],
      "source": [
        "import torch\n",
        "import torch.nn as nn\n",
        "\n",
        "# define a linear model\n",
        "model = nn.Linear(10,3)\n",
        "\n",
        "# define loss fn\n",
        "loss = nn.MSELoss()\n",
        "\n",
        "## dummy input x\n",
        "input_vector = torch.randn(10)\n",
        "## class number 3, denoted as a vector with the class index to 1\n",
        "target = torch.tensor([0,0,1])\n",
        "## y in math\n",
        "pred = model(input_vector)\n",
        "output = loss(pred, target)\n",
        "\n",
        "print(\"Prediction: \" ,pred)\n",
        "print(\"Output: \" , output)"
      ]
    },
    {
      "cell_type": "markdown",
      "metadata": {
        "id": "wCIeF3M1ZdkT"
      },
      "source": [
        "It is important to understand that even though the target class is a scalar (3 in the example above), we convert it to a tensor. For three classes, you will have these possible target vectors $t$:\n",
        "\n",
        "class 1 $\\rightarrow$ [1,0,0]\n",
        "\n",
        "class 2 $\\rightarrow$ [0,1,0]\n",
        "\n",
        "class 3 $\\rightarrow$ [0,0,1]\n",
        "\n",
        "This is also called **one-hot encoding** in machine learning."
      ]
    },
    {
      "cell_type": "markdown",
      "metadata": {
        "id": "2ebQJ7RjZdkT"
      },
      "source": [
        "# Optimization and training process\n",
        "\n",
        "Optimization is the process of finding the weight matrix $W$ that minimizes the loss function. In other words, it is the process of selecting the individual weights $w_{i}$ so that the classifier’s prediction $y$ is as close as possible to the point’s real label $t$.\n",
        "\n",
        "Mathematically this can be written as:\n",
        "\n",
        "> $w′ = argmin_{w}(C(w))$\n",
        "\n",
        "For now, let’s keep in mind that optimization is an abstract concept that describes how we select the matrix. We will dive into it in the next lesson where we will talk about neural networks.\n",
        "\n",
        "Now, we can describe the training algorithm in its entirety:\n",
        "\n",
        "Given a set of training examples $x_{i}$ with their labels $t_{i}$, we need to:\n",
        "\n",
        "- Initialize the classifier $f(x_{i},W)$ with random weight $W$\n",
        "\n",
        "- Feed a training example in the classifier and get the output $y$\n",
        "\n",
        "- Compute the loss between the prediction $y_{i}$ and target $t_{i}$.\n",
        "\n",
        "- Adjust the weights $W$ according to the loss $C_{i}$(next lesson).\n",
        "\n",
        "- Repeat for all training examples.\n",
        "\n",
        "This is the core idea behind all deep learning models. In the end, we will have a trained classifier that can be **generalized in previously UNSEEN examples**.\n",
        "\n",
        "> The only step that should be unclear now is how we adjust the weights. We will discuss this in the next lesson."
      ]
    },
    {
      "cell_type": "markdown",
      "source": [
        "**EXAMPLE: Fitting a Straight Line on 2D Data in PyTorch**\n",
        "\n",
        "The objective here is to fit a straight line on a synthetic 2-dimensional or 2D data.\n",
        "\n",
        "This is known as a Linear Regression Problem."
      ],
      "metadata": {
        "id": "vcXjDRztnMyv"
      }
    },
    {
      "cell_type": "code",
      "source": [
        "# Import\n",
        "seed_for_reproducibility = 3333\n",
        "import numpy as np\n",
        "np.random.seed(seed_for_reproducibility)\n",
        "import random\n",
        "random.seed(seed_for_reproducibility)\n",
        "from matplotlib import pyplot as plt\n",
        "%matplotlib inline\n",
        "\n",
        "import torch\n",
        "torch.manual_seed(seed_for_reproducibility)"
      ],
      "metadata": {
        "colab": {
          "base_uri": "https://localhost:8080/"
        },
        "id": "qqDf7g9SPwbD",
        "outputId": "11fb83f2-694a-444b-fac0-d4c76d15efb7"
      },
      "execution_count": null,
      "outputs": [
        {
          "output_type": "execute_result",
          "data": {
            "text/plain": [
              "<torch._C.Generator at 0x7f71830647d0>"
            ]
          },
          "metadata": {},
          "execution_count": 1
        }
      ]
    },
    {
      "cell_type": "markdown",
      "source": [
        "**STEP 1: Generating Synthetic 2D data**\n",
        "\n",
        "In order to find a straight line that fits a given data, we first need to generate the data itself. We are going to generate the synthetic data in such a way that the data points roughly lie on a stright line. We are going to do this by using some predefined m (slope) and c (intercept)."
      ],
      "metadata": {
        "id": "TkwN0pZnP_Jb"
      }
    },
    {
      "cell_type": "code",
      "source": [
        "# Defining the range of 'x', the independent variable\n",
        "x_range = [-2000, 2000]\n",
        "\n",
        "# Defining the extent of noise, which would be added to both the dependent as well as the independent variable\n",
        "deviation = 100\n",
        "\n",
        "# For the data points to roughly fall on a staright line, we need to define the slope and the intercept of that line\n",
        "# Let's intoduce some randomness in the slope and intercept selection process\n",
        "m_synthetic = random.randint(-100, 100)/100. # m_synthetic is real number from the set(-1.0, -0.99, -0.98 ...., 0.98, 0.99, 1.0)\n",
        "c_synthetic = random.randint(-10, 10)        # c_synthetic is an integer from the set(-10, -9, -8 ..., 8, 9, 10)\n",
        "\n",
        "print('\\nm_synthetic: {}'.format(m_synthetic))\n",
        "print('c_synthetic: {}'.format(c_synthetic))"
      ],
      "metadata": {
        "colab": {
          "base_uri": "https://localhost:8080/"
        },
        "id": "cL7ZLIOFQC3V",
        "outputId": "79748fba-0c2c-4f57-9eb4-3fe00ce9e667"
      },
      "execution_count": null,
      "outputs": [
        {
          "output_type": "stream",
          "name": "stdout",
          "text": [
            "\n",
            "m_synthetic: -0.67\n",
            "c_synthetic: 6\n"
          ]
        }
      ]
    },
    {
      "cell_type": "markdown",
      "source": [
        "Once the slope(m) and the intercept(c) have been randomly selected, we generate synthetic data points."
      ],
      "metadata": {
        "id": "uGlr-DzcQla4"
      }
    },
    {
      "cell_type": "code",
      "source": [
        "# Defining the number of data points to be generated\n",
        "num_points = 100\n",
        "\n",
        "# Let's generate the synthetic data points\n",
        "x_list = []\n",
        "y_list = []\n",
        "for _ in range(num_points):\n",
        "    \n",
        "    # Selecting a random integer from the predefined range\n",
        "    x = random.randint(x_range[0] , x_range[1])\n",
        "    \n",
        "    # Calculating the dependent valiable 'y' using the formula of a straight line y = mx + c\n",
        "    y = m_synthetic*x + c_synthetic\n",
        "    \n",
        "    # Randomly choosing the deviation (noise) for both the dependent as well as the independent variable, so that the dataset becomes a little noisy\n",
        "    deviation_x = random.randint(-deviation , deviation)\n",
        "    deviation_y = random.randint(-deviation , deviation)\n",
        "    \n",
        "    # Finally, appending the noisy data points in the respective lists\n",
        "    x_list.append(x + deviation_x)\n",
        "    y_list.append(y + deviation_y)\n",
        "\n",
        "x_min, y_min, x_max, y_max = min(x_list) , min(y_list) , max(x_list) , max(y_list)\n",
        "print('\\nFollowing are the extreme ends of the synthetic data points...')\n",
        "print('x_min, x_max: {}, {}'.format(x_min, x_max))\n",
        "print('y_min, y_max: {}, {}'.format(y_min, y_max))"
      ],
      "metadata": {
        "colab": {
          "base_uri": "https://localhost:8080/"
        },
        "id": "imvUh4-FQbqx",
        "outputId": "37973cef-35c5-4cb2-cbee-82660ba3d86f"
      },
      "execution_count": null,
      "outputs": [
        {
          "output_type": "stream",
          "name": "stdout",
          "text": [
            "\n",
            "Following are the extreme ends of the synthetic data points...\n",
            "x_min, x_max: -2022, 1966\n",
            "y_min, y_max: -1392.3200000000002, 1352.16\n"
          ]
        }
      ]
    },
    {
      "cell_type": "markdown",
      "source": [
        "Let’s visualize the synthetic data points and the line defined by m_synthetic amd c_synthetic.\n"
      ],
      "metadata": {
        "id": "48eOolA9QrxB"
      }
    },
    {
      "cell_type": "code",
      "source": [
        "# Let's now visualize how the synthetic data looks like \n",
        "plt.scatter(x_list, y_list , color = 'cyan')\n",
        "plt.plot((x_min, x_max), (m_synthetic*x_min + c_synthetic, m_synthetic*x_max + c_synthetic), color = 'r')\n",
        "plt.title('Synthetic Data with m = {} and c = {}'.format(m_synthetic, c_synthetic))\n",
        "plt.xlabel(\"Independent Variable 'x'\")\n",
        "plt.ylabel(\"Dependent Variable 'y'\")\n",
        "plt.savefig('synthetic_m_and_c.jpg')"
      ],
      "metadata": {
        "colab": {
          "base_uri": "https://localhost:8080/",
          "height": 295
        },
        "id": "jrwBCND1Qsf4",
        "outputId": "bbdf8030-cde2-4ac4-9bde-93faec184175"
      },
      "execution_count": null,
      "outputs": [
        {
          "output_type": "display_data",
          "data": {
            "text/plain": [
              "<Figure size 432x288 with 1 Axes>"
            ],
            "image/png": "[encoded data removed]"
          },
          "metadata": {
            "needs_background": "light"
          }
        }
      ]
    },
    {
      "cell_type": "markdown",
      "source": [
        "Our task here, is to find out the equation of a straight line which best fits all the data points !\n",
        "\n",
        "In other words, we have to find the slope and the intercept of a line, which would give us the line that sits at the center of the distribution of the data points.\n",
        "\n",
        "Since this is a Linear Regression Problem, we want to find the value of all the required parameters (slope m and intercept c in our case because the data lies in a 2D space)\n",
        "\n",
        "Had the data been higher-dimensional, we would have to solve for more parameteres."
      ],
      "metadata": {
        "id": "73rQTZQim_G3"
      }
    },
    {
      "cell_type": "markdown",
      "source": [
        "**STEP 2: Define the model architecture**\n",
        "\n",
        "We are going to use PyTorch to solve this Linear Regression Problem. We need a very simple model which takes in a single scalar input and spits out some single scalar output."
      ],
      "metadata": {
        "id": "CgE3YTunnnee"
      }
    },
    {
      "cell_type": "code",
      "source": [
        "# Defining the model architecture.\n",
        "class LinearRegressionModel(torch.nn.Module): \n",
        "    def __init__(self): \n",
        "        super(LinearRegressionModel, self).__init__() \n",
        "        self.linear = torch.nn.Linear(1, 1)  # this layer of the model has a single neuron, that takes in one scalar input and gives out one scalar output. \n",
        "  \n",
        "    def forward(self, x): \n",
        "        y_pred = self.linear(x) \n",
        "        return y_pred \n",
        "\n",
        "# Creating the model\n",
        "model = LinearRegressionModel()"
      ],
      "metadata": {
        "id": "pUvIUIsmnyTm"
      },
      "execution_count": null,
      "outputs": []
    },
    {
      "cell_type": "code",
      "source": [
        "# We can print the 'model' to see it's architecture\n",
        "print(model)"
      ],
      "metadata": {
        "colab": {
          "base_uri": "https://localhost:8080/"
        },
        "id": "tOUKiIkCoIO7",
        "outputId": "7b35503d-da9e-4868-868f-f47646d1c66c"
      },
      "execution_count": null,
      "outputs": [
        {
          "output_type": "stream",
          "name": "stdout",
          "text": [
            "LinearRegressionModel(\n",
            "  (linear): Linear(in_features=1, out_features=1, bias=True)\n",
            ")\n"
          ]
        }
      ]
    },
    {
      "cell_type": "markdown",
      "source": [
        "Once, we have created the model, let's check out the paramters that we have in it.\n",
        "\n",
        "There are going to be some learnable parameters in the model, which are randomly initialized at the beginning.\n",
        "\n",
        "This is the how the initial parameters look like at the initial stage..."
      ],
      "metadata": {
        "id": "3gGQKfmroP4F"
      }
    },
    {
      "cell_type": "code",
      "source": [
        "for name, parameter in model.named_parameters():\n",
        "    print('name           : {}'.format(name))\n",
        "    print('parameter      : {}'.format(parameter.item()))\n",
        "    print('learnable      : {}'.format(parameter.requires_grad))\n",
        "    print('parameter.shape: {}'.format(parameter.shape))\n",
        "    print('---------------------------------')"
      ],
      "metadata": {
        "colab": {
          "base_uri": "https://localhost:8080/"
        },
        "id": "pm0KzutvoQX9",
        "outputId": "8666dad4-097d-4be3-e4ff-4dfc943833dd"
      },
      "execution_count": null,
      "outputs": [
        {
          "output_type": "stream",
          "name": "stdout",
          "text": [
            "name           : linear.weight\n",
            "parameter      : -0.19329047203063965\n",
            "learnable      : True\n",
            "parameter.shape: torch.Size([1, 1])\n",
            "---------------------------------\n",
            "name           : linear.bias\n",
            "parameter      : -0.36674630641937256\n",
            "learnable      : True\n",
            "parameter.shape: torch.Size([1])\n",
            "---------------------------------\n"
          ]
        }
      ]
    },
    {
      "cell_type": "markdown",
      "source": [
        "Note that the parameter's initialized values are not at all, near the m_synthetic and c_synthetic values, which have been actually used to synthesize the data points.\n",
        "\n",
        "But as we train the model, these values would approach to the values of m_synthetic and c_synthetic !\n",
        "\n",
        "We will see this at the end of this notebook."
      ],
      "metadata": {
        "id": "4gGkf6V5orsh"
      }
    },
    {
      "cell_type": "markdown",
      "source": [
        "**STEP 3: Defining a Loss Fucntion and an Optimizer**\n",
        "\n",
        "There must be a metric which would let us know how well is our model fitting on the given data.\n",
        "\n",
        "That is exactly what a Loss Function does !\n",
        "\n",
        "And PyTorch calculates the derivatives of the loss with respect to all the learnable parameters during the Back-Propagation, which is later used by an Optimizer to update all the parameters of the model, improving the model after every epoch.\n",
        "\n",
        "By the way, one epoch is when the entire dataset is passed both forward and backward through the Neural Network only once"
      ],
      "metadata": {
        "id": "Aq2V7CUCo-Uo"
      }
    },
    {
      "cell_type": "code",
      "source": [
        "# Defining the Loss Function\n",
        "# Mean Squared Error is the most common choice of Loss Function for Linear Regression models.\n",
        "criterion = torch.nn.MSELoss()\n",
        "\n",
        "# Defining the Optimizer, which would update all the trainable parameters of the model, making the model learn the data distribution better and hence fit the distribution better.\n",
        "optimizer = torch.optim.Adam(model.parameters(), lr = 0.0005) "
      ],
      "metadata": {
        "id": "LUGAYjMgo5nk"
      },
      "execution_count": null,
      "outputs": []
    },
    {
      "cell_type": "code",
      "source": [
        "# We also need to convert all the data into tensors before we could use them for training our model.\n",
        "data_x = torch.tensor([[x] for x in x_list], dtype = torch.float)\n",
        "data_y = torch.tensor([[y] for y in y_list], dtype = torch.float)"
      ],
      "metadata": {
        "id": "YIL8pNMSpamh"
      },
      "execution_count": null,
      "outputs": []
    },
    {
      "cell_type": "markdown",
      "source": [
        "**STEP 4: Training the Model and Plotting the Loss**"
      ],
      "metadata": {
        "id": "qEZBGB2rppnX"
      }
    },
    {
      "cell_type": "code",
      "source": [
        "losses = []         # to keep track of the epoch lossese \n",
        "slope_list = []     # to keep track of the slope learnt by the model\n",
        "intercept_list = [] # to keep track of the intercept learnt by the model\n",
        "\n",
        "EPOCHS = 2500\n",
        "print('\\nTRAINING...')\n",
        "for epoch in range(EPOCHS):\n",
        "    # We need to clear the gradients of the optimizer before running the back-propagation in PyTorch\n",
        "    optimizer.zero_grad() \n",
        "    \n",
        "    # Feeding the input data in the model and getting out the predictions\n",
        "    pred_y = model(data_x)\n",
        "\n",
        "    # Calculating the loss using the model's predictions and the real y values\n",
        "    loss = criterion(pred_y, data_y) \n",
        "\n",
        "    # Back-Propagation\n",
        "    loss.backward() \n",
        "    \n",
        "    # Updating all the trainable parameters\n",
        "    optimizer.step()\n",
        "    \n",
        "    # Appending the loss.item() (a scalar value)\n",
        "    losses.append(loss.item())\n",
        "    \n",
        "    # Appending the learnt slope and intercept   \n",
        "    slope_list.append(model.linear.weight.item())\n",
        "    intercept_list.append(model.linear.bias.item())\n",
        "    \n",
        "    # We print out the losses after every 2000 epochs\n",
        "    if (epoch)%100 == 0:\n",
        "        print('loss: ', loss.item())\n",
        "\n",
        "# Let's see what are the learnt parameters after having trained the model for hundreds of epochs\n",
        "m_learnt = model.linear.weight.item()\n",
        "c_learnt = model.linear.bias.item()\n",
        "\n",
        "print('\\nCompare the learnt parameters with the original ones')\n",
        "print('\\nm_synthetic     VS     m_learnt')\n",
        "print('     {}                   {}'.format(m_synthetic, m_learnt))\n",
        "print('\\nc_synthetic     VS     c_learnt')\n",
        "print('     {}                   {}'.format(c_synthetic, c_learnt))\n",
        "\n",
        "# Plotting the epoch losses\n",
        "plt.plot(losses)\n",
        "plt.title('Loss VS Epoch')\n",
        "plt.xlabel('#Epoch')\n",
        "plt.ylabel('Loss')\n",
        "plt.savefig('losses.jpg')"
      ],
      "metadata": {
        "colab": {
          "base_uri": "https://localhost:8080/",
          "height": 903
        },
        "id": "K0iXBOJIpdLg",
        "outputId": "3c23ce9d-b9bc-49be-e27a-746740406b21"
      },
      "execution_count": null,
      "outputs": [
        {
          "output_type": "stream",
          "name": "stdout",
          "text": [
            "\n",
            "TRAINING...\n",
            "loss:  290066.90625\n",
            "loss:  233668.859375\n",
            "loss:  186075.59375\n",
            "loss:  146441.796875\n",
            "loss:  113859.359375\n",
            "loss:  87455.6875\n",
            "loss:  66397.1328125\n",
            "loss:  49895.39453125\n",
            "loss:  37213.2421875\n",
            "loss:  27672.869140625\n",
            "loss:  20661.06640625\n",
            "loss:  15636.830078125\n",
            "loss:  12134.048828125\n",
            "loss:  9762.8154296875\n",
            "loss:  8207.2470703125\n",
            "loss:  7220.21044921875\n",
            "loss:  6615.5888671875\n",
            "loss:  6258.6806640625\n",
            "loss:  6055.96923828125\n",
            "loss:  5945.36767578125\n",
            "loss:  5887.44677734375\n",
            "loss:  5858.3232421875\n",
            "loss:  5844.21875\n",
            "loss:  5837.56884765625\n",
            "loss:  5834.427734375\n",
            "\n",
            "Compare the learnt parameters with the original ones\n",
            "\n",
            "m_synthetic     VS     m_learnt\n",
            "     -0.67                   -0.6612429618835449\n",
            "\n",
            "c_synthetic     VS     c_learnt\n",
            "     6                   0.3956650197505951\n"
          ]
        },
        {
          "output_type": "display_data",
          "data": {
            "text/plain": [
              "<Figure size 432x288 with 1 Axes>"
            ],
            "image/png": "[encoded data removed]"
          },
          "metadata": {
            "needs_background": "light"
          }
        }
      ]
    },
    {
      "cell_type": "markdown",
      "source": [
        "**STEP 5: Visualizing the Line Learnt by the Model**"
      ],
      "metadata": {
        "id": "Eg9tbIbup-DR"
      }
    },
    {
      "cell_type": "code",
      "source": [
        "plt.scatter(x_list, y_list , color = 'cyan')\n",
        "plt.plot((x_min, x_max), (m_learnt*x_min + c_learnt, m_learnt*x_max + c_learnt), color = 'r')\n",
        "plt.title('Synthetic Data Points, with m = {} and c = {}'.format(round(m_learnt, 2), round(c_learnt, 2)))\n",
        "plt.xlabel(\"Independent Variable 'x'\")\n",
        "plt.ylabel(\"Dependent Variable 'y'\")\n",
        "plt.savefig('learnt_m_and_c.jpg')"
      ],
      "metadata": {
        "colab": {
          "base_uri": "https://localhost:8080/",
          "height": 295
        },
        "id": "NgIGZeXep_uP",
        "outputId": "5d5c5631-d5f1-4c97-84c1-d0c3811ca983"
      },
      "execution_count": null,
      "outputs": [
        {
          "output_type": "display_data",
          "data": {
            "text/plain": [
              "<Figure size 432x288 with 1 Axes>"
            ],
            "image/png": "[encoded data removed]"
          },
          "metadata": {
            "needs_background": "light"
          }
        }
      ]
    },
    {
      "cell_type": "markdown",
      "source": [
        "Looks like the model has indeed fit a straight line on the given data distribution !!!\n",
        "\n",
        "**Slope and Intercept during the training of the model**"
      ],
      "metadata": {
        "id": "s0soy_gSqHZv"
      }
    },
    {
      "cell_type": "code",
      "source": [
        "plt.plot(slope_list)\n",
        "plt.plot(intercept_list)\n",
        "plt.title('Learnt Values of Slope and Intercept')\n",
        "plt.legend(['slope', 'intercept'])\n",
        "plt.xlabel('#Epochs')\n",
        "plt.ylabel('Learnt Parameteres')\n",
        "plt.savefig('learning_m_and_c.jpg')"
      ],
      "metadata": {
        "colab": {
          "base_uri": "https://localhost:8080/",
          "height": 295
        },
        "id": "4hKHY1PJqJEf",
        "outputId": "32f4bd73-e8c3-4824-9c06-35548aa3f3a8"
      },
      "execution_count": null,
      "outputs": [
        {
          "output_type": "display_data",
          "data": {
            "text/plain": [
              "<Figure size 432x288 with 1 Axes>"
            ],
            "image/png": "[encoded data removed]"
          },
          "metadata": {
            "needs_background": "light"
          }
        }
      ]
    }
  ],
  "metadata": {
    "kernelspec": {
      "display_name": "Python 3",
      "language": "python",
      "name": "python3"
    },
    "language_info": {
      "codemirror_mode": {
        "name": "ipython",
        "version": 3
      },
      "file_extension": ".py",
      "mimetype": "text/x-python",
      "name": "python",
      "nbconvert_exporter": "python",
      "pygments_lexer": "ipython3",
      "version": "3.8.5"
    },
    "colab": {
      "provenance": [],
      "collapsed_sections": []
    }
  },
  "nbformat": 4,
  "nbformat_minor": 0
}